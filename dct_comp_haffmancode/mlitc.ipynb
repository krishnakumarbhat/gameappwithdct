{
 "cells": [
  {
   "cell_type": "code",
   "execution_count": 1,
   "id": "8a39c4bc",
   "metadata": {},
   "outputs": [],
   "source": [
    "import numpy as np\n",
    "import pywt\n",
    "from scipy.io import wavfile\n",
    "import matplotlib.pyplot as plt\n",
    "from collections import Counter\n",
    "import huffman\n",
    "from sklearn.tree import DecisionTreeRegressor\n"
   ]
  },
  {
   "cell_type": "code",
   "execution_count": 4,
   "id": "b117b82b",
   "metadata": {},
   "outputs": [
    {
     "name": "stderr",
     "output_type": "stream",
     "text": [
      "C:\\Users\\zalikapope\\AppData\\Local\\Temp\\ipykernel_1844\\192127685.py:1: WavFileWarning: Chunk (non-data) not understood, skipping it.\n",
      "  sampling_rate, data = wavfile.read('harvard.wav')\n"
     ]
    }
   ],
   "source": [
    "sampling_rate, data = wavfile.read('harvard.wav')\n"
   ]
  },
  {
   "cell_type": "code",
   "execution_count": 5,
   "id": "e3f15c1d",
   "metadata": {},
   "outputs": [],
   "source": [
    "coeffs = pywt.wavedec(data, 'db6')\n"
   ]
  },
  {
   "cell_type": "code",
   "execution_count": 6,
   "id": "03f12de0",
   "metadata": {},
   "outputs": [],
   "source": [
    "regressors = []\n",
    "thresholds = []\n",
    "\n",
    "for i, coeff in enumerate(coeffs):\n",
    "    regressor = DecisionTreeRegressor()\n",
    "    flatten_coeff = coeff.flatten()\n",
    "    x_train = np.arange(len(flatten_coeff)).reshape(-1, 1)\n",
    "    y_train = flatten_coeff\n",
    "    regressor.fit(x_train, y_train)\n",
    "    regressors.append(regressor)\n",
    "    thresholds.append(np.mean(np.abs(regressor.predict(x_train) - y_train)))\n"
   ]
  },
  {
   "cell_type": "code",
   "execution_count": 7,
   "id": "c7411146",
   "metadata": {},
   "outputs": [
    {
     "name": "stderr",
     "output_type": "stream",
     "text": [
      "C:\\Users\\zalikapope\\AppData\\Local\\Programs\\Python\\Python39\\lib\\site-packages\\pywt\\_thresholding.py:23: RuntimeWarning: invalid value encountered in divide\n",
      "  thresholded = (1 - value/magnitude)\n"
     ]
    }
   ],
   "source": [
    "compressed_coeffs = []\n",
    "for i, coeff in enumerate(coeffs):\n",
    "    compressed_coeff = pywt.threshold(coeff, thresholds[i], mode='soft')\n",
    "    compressed_coeffs.append(compressed_coeff)\n"
   ]
  },
  {
   "cell_type": "code",
   "execution_count": 8,
   "id": "bd637520",
   "metadata": {},
   "outputs": [],
   "source": [
    "flatten_coeffs = np.hstack(compressed_coeffs)\n"
   ]
  },
  {
   "cell_type": "code",
   "execution_count": 9,
   "id": "708ac2ae",
   "metadata": {},
   "outputs": [],
   "source": [
    "tuple_coeffs = [tuple(coeff) for coeff in flatten_coeffs]\n",
    "symbol_counts = dict(Counter(tuple_coeffs))\n",
    "huff_tree = huffman.codebook(symbol_counts)\n",
    "huffman_dict = dict(huff_tree)\n"
   ]
  },
  {
   "cell_type": "code",
   "execution_count": 13,
   "id": "38cd8a88",
   "metadata": {},
   "outputs": [],
   "source": [
    "encoded_coeffs = [huffman_dict.get(symbol, '') for symbol in tuple_coeffs]\n",
    "binary_data = ''.join(encoded_coeffs)"
   ]
  },
  {
   "cell_type": "code",
   "execution_count": 14,
   "id": "16d57361",
   "metadata": {},
   "outputs": [],
   "source": [
    "padding_length = 8 - len(binary_data) % 8\n",
    "binary_data += \"0\" * padding_length\n"
   ]
  },
  {
   "cell_type": "code",
   "execution_count": 15,
   "id": "8bbbb8b9",
   "metadata": {},
   "outputs": [],
   "source": [
    "byte_array = bytearray()\n",
    "for i in range(0, len(binary_data), 8):\n",
    "    byte = binary_data[i:i + 8]\n",
    "    byte_array.append(int(byte, 2))"
   ]
  },
  {
   "cell_type": "code",
   "execution_count": 16,
   "id": "e0d942ef",
   "metadata": {},
   "outputs": [],
   "source": [
    "flattened_coeffs = np.concatenate(compressed_coeffs)\n",
    "wavfile.write('compressed.wav', sampling_rate, flattened_coeffs)\n",
    "np.savez('compressed.npz', huffman_dict=huffman_dict, compressed_coeffs=compressed_coeffs)\n"
   ]
  },
  {
   "cell_type": "code",
   "execution_count": 17,
   "id": "9660f26d",
   "metadata": {},
   "outputs": [
    {
     "name": "stdout",
     "output_type": "stream",
     "text": [
      "\n",
      "Compressed Audio Data:\n",
      "[[ nan  nan]\n",
      " [ nan   1.]\n",
      " [ -1.  -1.]\n",
      " ...\n",
      " [-57. -57.]\n",
      " [-57. -58.]\n",
      " [-61. -60.]]\n",
      "\n",
      "Huffman Dictionary:\n",
      "\n",
      "Huffman Encoding Statistics:\n",
      "\n",
      "Number of Bits before Compression: 12952128\n",
      "Number of Bits after Compression: 8\n",
      "Compression Ratio: 6.176591213428404e-07\n"
     ]
    }
   ],
   "source": [
    "print(\"\\nCompressed Audio Data:\")\n",
    "print(flattened_coeffs)\n",
    "\n",
    "print(\"\\nHuffman Dictionary:\")\n",
    "#print(huffman_dict)\n",
    "\n",
    "print(\"\\nHuffman Encoding Statistics:\")\n",
    "#print(symbol_counts)\n",
    "\n",
    "print(\"\\nNumber of Bits before Compression:\", len(data) * 16)  # Assuming 16 bits per sample in the original audio\n",
    "print(\"Number of Bits after Compression:\", len(byte_array) * 8)\n",
    "compression_ratio = (len(byte_array) * 8) / (len(data) * 16)\n",
    "print(\"Compression Ratio:\", compression_ratio)\n"
   ]
  },
  {
   "cell_type": "code",
   "execution_count": null,
   "id": "b91f4c95",
   "metadata": {},
   "outputs": [],
   "source": []
  }
 ],
 "metadata": {
  "kernelspec": {
   "display_name": "Python 3 (ipykernel)",
   "language": "python",
   "name": "python3"
  },
  "language_info": {
   "codemirror_mode": {
    "name": "ipython",
    "version": 3
   },
   "file_extension": ".py",
   "mimetype": "text/x-python",
   "name": "python",
   "nbconvert_exporter": "python",
   "pygments_lexer": "ipython3",
   "version": "3.9.0"
  }
 },
 "nbformat": 4,
 "nbformat_minor": 5
}
